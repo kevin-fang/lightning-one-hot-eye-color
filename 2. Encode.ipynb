{
 "cells": [
  {
   "cell_type": "code",
   "execution_count": 1,
   "metadata": {
    "collapsed": true
   },
   "outputs": [],
   "source": [
    "from sklearn.svm import LinearSVC\n",
    "from sklearn import preprocessing\n",
    "import numpy as np\n",
    "import pandas as pd\n",
    "from sklearn.model_selection import cross_val_score, train_test_split\n",
    "from sklearn.metrics import accuracy_score, confusion_matrix\n",
    "import matplotlib.pyplot as plt\n",
    "%matplotlib inline\n",
    "import collections\n",
    "import os\n",
    "import seaborn\n",
    "seaborn.set()"
   ]
  },
  {
   "cell_type": "code",
   "execution_count": 2,
   "metadata": {
    "collapsed": true
   },
   "outputs": [],
   "source": [
    "excludeHazel = False\n",
    "fileName = 'svc_no_hazel.pkl'"
   ]
  },
  {
   "cell_type": "code",
   "execution_count": 3,
   "metadata": {
    "collapsed": true
   },
   "outputs": [],
   "source": [
    "# read names that have provided survey eye color data\n",
    "columns = ['name', 'timestamp', 'id', 'blood_type', 'height', 'weight', 'hw_comments', 'left', 'right', 'left_desc', 'right_desc', 'eye_comments', 'hair', 'hair_desc', 'hair_comments', 'misc', 'handedness']\n",
    "\n",
    "# pgp eye color data from survey\n",
    "surveyData = pd.read_csv(\"./eye_color_data/PGP-Survey.csv\", names=columns, na_values=['nan', '', 'NaN'])\n",
    "\n",
    "# names of the pgp participants\n",
    "surveyNames = np.asarray(surveyData['name'].values.tolist())"
   ]
  },
  {
   "cell_type": "code",
   "execution_count": 8,
   "metadata": {
    "collapsed": true
   },
   "outputs": [],
   "source": [
    "tiled_data_dir = \"/home/kfang/keep/by_id/su92l-4zz18-b8rs5x7t6gry16k/\"\n",
    "def get_file(name, np_file = True):\n",
    "    if np_file: \n",
    "        return np.load(os.path.join(tiled_data_dir, name))\n",
    "    else:\n",
    "        return open(os.path.join(tiled_data_dir, name), 'r')"
   ]
  },
  {
   "cell_type": "code",
   "execution_count": 9,
   "metadata": {},
   "outputs": [],
   "source": [
    "names_file = get_file(\"names.npy\", np_file = False)\n",
    "names = []\n",
    "for line in names_file:\n",
    "    names.append(line[:-1])"
   ]
  },
  {
   "cell_type": "code",
   "execution_count": 10,
   "metadata": {
    "collapsed": true
   },
   "outputs": [],
   "source": [
    "get_name = lambda full_name: full_name[45:53]\n",
    "names = map(get_name, names)"
   ]
  },
  {
   "cell_type": "code",
   "execution_count": 11,
   "metadata": {
    "collapsed": true
   },
   "outputs": [],
   "source": [
    "# simple lambda function to return if the input is a string\n",
    "isstr = lambda val: isinstance(val, str)\n",
    "\n",
    "eye_color = collections.namedtuple(\"EyeColor\", ['left', 'right'])\n",
    "\n",
    "# lookup a name in the survey data and return a tuple of the eye colors\n",
    "def getData(name, surveyData, excludeHazel=False):\n",
    "    for index, row in surveyData.iterrows():\n",
    "        if row['name'] == name:\n",
    "            if not excludeHazel:\n",
    "                return eye_color(row['left'], row['right'])\n",
    "            else:\n",
    "                if isstr(row['left_desc']) and isstr(row['right_desc']):\n",
    "                    if 'azel' in row['left_desc'] or 'azel' in row['right_desc']:\n",
    "                        return None\n",
    "                return eye_color(row['left'], row['right'])"
   ]
  },
  {
   "cell_type": "code",
   "execution_count": 12,
   "metadata": {},
   "outputs": [],
   "source": [
    "# list of tuples for index and name with eye color data (idx, name)\n",
    "nameEyeMap = []\n",
    "namePair = collections.namedtuple(\"NamePair\", ['index', 'name'])\n",
    "\n",
    "# dictionary of left and right eye colors with respective name, i.e., {\"huID\": 12}\n",
    "leftEyeMap = {}\n",
    "rightEyeMap = {}\n",
    "\n",
    "existingNames = []\n",
    "\n",
    "# loop through pgpNames and add eye color to maps, making sure not to add the same name twice\n",
    "for i, name in enumerate(names):\n",
    "    if name in surveyNames and name not in existingNames:\n",
    "        existingNames.append(name)\n",
    "        # change `excludeHazel=True` to include hazel in the training/testing data.\n",
    "        eyeData = getData(name, surveyData, excludeHazel=excludeHazel)\n",
    "        if eyeData == None:\n",
    "            pass\n",
    "        elif isstr(eyeData.left) and isstr(eyeData.right):\n",
    "            nameEyeMap.append(namePair(i, name))\n",
    "            leftEyeMap[name] = eyeData.left\n",
    "            rightEyeMap[name] = eyeData.right\n",
    "\n",
    "# create lists containing the known eye color names and the unknown eye colors.\n",
    "nameIndices, correspondingNames = [], []\n",
    "for pair in nameEyeMap:\n",
    "    nameIndices.append(pair.index)\n",
    "    correspondingNames.append(pair.name)"
   ]
  },
  {
   "cell_type": "code",
   "execution_count": 13,
   "metadata": {
    "collapsed": true
   },
   "outputs": [],
   "source": [
    "# convert dictionaries to lists \n",
    "leftEyeList = []\n",
    "rightEyeList = []\n",
    "# nametuple looks like (index, name)\n",
    "for _, name in nameEyeMap:\n",
    "    if isstr(leftEyeMap[name]):\n",
    "        leftEyeList.append(leftEyeMap[name])\n",
    "    if isstr(rightEyeMap[name]):\n",
    "        rightEyeList.append(rightEyeMap[name])\n",
    "\n",
    "blueOrNot = lambda color: 0 if int(color) > 13 else 1\n",
    "leftEyeList = map(blueOrNot, leftEyeList)"
   ]
  },
  {
   "cell_type": "code",
   "execution_count": 14,
   "metadata": {
    "collapsed": true
   },
   "outputs": [],
   "source": [
    "np.save(\"./npy_data/leftEyeList.npy\", leftEyeList)"
   ]
  },
  {
   "cell_type": "code",
   "execution_count": 17,
   "metadata": {},
   "outputs": [],
   "source": [
    "# load genome data\n",
    "#all_data = get_file('all.npy')\n",
    "all_data = get_file('all.npy')"
   ]
  },
  {
   "cell_type": "code",
   "execution_count": 18,
   "metadata": {
    "collapsed": true
   },
   "outputs": [],
   "source": [
    "all_data += 2"
   ]
  },
  {
   "cell_type": "code",
   "execution_count": 19,
   "metadata": {
    "scrolled": true
   },
   "outputs": [
    {
     "name": "stdout",
     "output_type": "stream",
     "text": [
      "(21310012,)\n"
     ]
    }
   ],
   "source": [
    "path_data = get_file('all-info.npy')\n",
    "print(path_data.shape)"
   ]
  },
  {
   "cell_type": "code",
   "execution_count": 20,
   "metadata": {
    "collapsed": true
   },
   "outputs": [],
   "source": [
    "# save genomes that we know the eye color of from surveys\n",
    "knownData = all_data[nameIndices]\n",
    "unknownData = np.delete(all_data, nameIndices, axis=0)"
   ]
  },
  {
   "cell_type": "code",
   "execution_count": 21,
   "metadata": {
    "collapsed": true
   },
   "outputs": [],
   "source": [
    "# only keep data with less than 10% missing data\n",
    "nnz = np.count_nonzero(knownData, axis=0)\n",
    "fracnnz = np.divide(nnz.astype(float), knownData.shape[0])\n",
    "\n",
    "idxKeep = fracnnz >= 0.90\n",
    "idxOP = np.arange(knownData.shape[1])\n",
    "knownData = knownData[:, idxKeep]"
   ]
  },
  {
   "cell_type": "code",
   "execution_count": 22,
   "metadata": {
    "collapsed": true
   },
   "outputs": [],
   "source": [
    "#path_data = path_data[nnz]"
   ]
  },
  {
   "cell_type": "code",
   "execution_count": 23,
   "metadata": {
    "scrolled": true
   },
   "outputs": [
    {
     "name": "stdout",
     "output_type": "stream",
     "text": [
      "(37134780,)\n"
     ]
    }
   ],
   "source": [
    "# save information about deleting missing/spanning data\n",
    "varvals = np.full(50 * knownData.shape[1], np.nan)\n",
    "nx = 0\n",
    "\n",
    "varlist = []\n",
    "for j in range(0, knownData.shape[1]):\n",
    "    u = np.unique(knownData[:,j])\n",
    "    varvals[nx : nx + u.size] = u\n",
    "    nx = nx + u.size\n",
    "    varlist.append(u)\n",
    "\n",
    "varvals = varvals[~np.isnan(varvals)]\n",
    "\n",
    "print(varvals.shape)\n",
    "np.save(\"./npy_data/varvals.npy\", varvals)"
   ]
  },
  {
   "cell_type": "code",
   "execution_count": 24,
   "metadata": {
    "collapsed": true
   },
   "outputs": [],
   "source": [
    "def foo(col):\n",
    "    u = np.unique(col)\n",
    "    nunq = u.shape\n",
    "    return nunq\n",
    "\n",
    "invals = np.apply_along_axis(foo, 0, knownData)\n",
    "invals = invals[0]"
   ]
  },
  {
   "cell_type": "code",
   "execution_count": 25,
   "metadata": {
    "collapsed": true
   },
   "outputs": [],
   "source": [
    "# used later to find coefPaths\n",
    "pathdataOH = np.repeat(path_data[idxKeep], invals)\n",
    "# used later to find the original location of the path from non one hot\n",
    "oldpath = np.repeat(idxOP[idxKeep], invals)"
   ]
  },
  {
   "cell_type": "code",
   "execution_count": 26,
   "metadata": {
    "collapsed": true
   },
   "outputs": [],
   "source": [
    "np.save(\"./npy_data/idx_keep.npy\", idxKeep)\n",
    "np.save(\"./npy_data/path_data_oh.npy\", pathdataOH)\n",
    "np.save(\"./npy_data/old_path.npy\", oldpath)"
   ]
  },
  {
   "cell_type": "code",
   "execution_count": 27,
   "metadata": {
    "collapsed": true
   },
   "outputs": [],
   "source": [
    "np.save('./npy_data/all_data_exc.npy', knownData)"
   ]
  },
  {
   "cell_type": "code",
   "execution_count": 29,
   "metadata": {},
   "outputs": [
    {
     "name": "stdout",
     "output_type": "stream",
     "text": [
      "2018-08-15 16:01:34 cwltool INFO: /usr/bin/arvados-cwl-runner 1.1.4, arvados-python-client 1.1.4, cwltool 1.0.20180403145700\n",
      "2018-08-15 16:01:34 cwltool INFO: Resolved 'encode.cwl' to 'file:///data-sdc/kfang/one_hot_eye_color/encode.cwl'\n",
      "2018-08-15 16:01:35 arvados.arv-run INFO: Upload local files: \"just_encode.py\" \"npy_data/all_data_exc.npy\"\n",
      "2018-08-15 16:02:31 arvados.arv-run INFO: Uploaded to 332cead2ac169fab23bf96588d700e42+3041 (su92l-4zz18-q7ls4wkkzo3hf3k)\n",
      "2018-08-15 16:02:31 arvados.cwl-runner INFO: [container Encode Blood Types] su92l-xvhdp-sn1fbr0jt8qfu52 state is Committed\n",
      "2018-08-15 16:17:48 arvados.cwl-runner INFO: [container Encode Blood Types] su92l-xvhdp-sn1fbr0jt8qfu52 is Final\n",
      "2018-08-15 16:17:48 arvados.cwl-runner INFO: Overall process status is success\n",
      "2018-08-15 16:17:48 arvados.cwl-runner INFO: Final output collection bd4a02df20a9a7343beb6fd6098e9120+14646 \"Output of encode.cwl (2018-08-15T16:17:48.588Z)\" (su92l-4zz18-6g06p1x0afw4syq)\n",
      "{\n",
      "    \"enc_out\": {\n",
      "        \"basename\": \"encode_output.txt\", \n",
      "        \"location\": \"keep:bd4a02df20a9a7343beb6fd6098e9120+14646/encode_output.txt\", \n",
      "        \"class\": \"File\", \n",
      "        \"size\": 83\n",
      "    }, \n",
      "    \"out2\": [\n",
      "        {\n",
      "            \"basename\": \"encoded.npy\", \n",
      "            \"location\": \"keep:bd4a02df20a9a7343beb6fd6098e9120+14646/encoded.npy\", \n",
      "            \"class\": \"File\", \n",
      "            \"size\": 23172102848\n",
      "        }\n",
      "    ]\n",
      "}\n",
      "2018-08-15 16:17:48 cwltool INFO: Final process status is success\n"
     ]
    }
   ],
   "source": [
    "!arvados-cwl-runner --name \"Encode Eye Color\" --api containers  encode.cwl --arr npy_data/all_data_exc.npy --script just_encode.py"
   ]
  },
  {
   "cell_type": "code",
   "execution_count": 31,
   "metadata": {},
   "outputs": [
    {
     "name": "stdout",
     "output_type": "stream",
     "text": [
      "22098 MiB / 22098 MiB 100.0%\n"
     ]
    }
   ],
   "source": [
    "!arv-get bd4a02df20a9a7343beb6fd6098e9120+14646/encoded.npy ./npy_data/encoded.npy"
   ]
  },
  {
   "cell_type": "code",
   "execution_count": null,
   "metadata": {
    "collapsed": true
   },
   "outputs": [],
   "source": []
  }
 ],
 "metadata": {
  "kernelspec": {
   "display_name": "Python 2",
   "language": "python",
   "name": "python2"
  },
  "language_info": {
   "codemirror_mode": {
    "name": "ipython",
    "version": 2
   },
   "file_extension": ".py",
   "mimetype": "text/x-python",
   "name": "python",
   "nbconvert_exporter": "python",
   "pygments_lexer": "ipython2",
   "version": "2.7.12"
  }
 },
 "nbformat": 4,
 "nbformat_minor": 2
}
