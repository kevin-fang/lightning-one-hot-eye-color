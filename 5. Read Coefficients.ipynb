{
 "cells": [
  {
   "cell_type": "code",
   "execution_count": 1,
   "metadata": {
    "collapsed": true
   },
   "outputs": [],
   "source": [
    "from sklearn.svm import LinearSVC\n",
    "from sklearn import preprocessing\n",
    "import numpy as np\n",
    "import pandas as pd\n",
    "from sklearn.model_selection import cross_val_score, train_test_split\n",
    "from sklearn.metrics import accuracy_score, confusion_matrix\n",
    "import matplotlib.pyplot as plt\n",
    "%matplotlib inline\n",
    "import collections\n",
    "import os\n",
    "import seaborn\n",
    "seaborn.set()\n",
    "from sklearn.externals import joblib"
   ]
  },
  {
   "cell_type": "code",
   "execution_count": 2,
   "metadata": {
    "collapsed": true
   },
   "outputs": [],
   "source": [
    "svc = joblib.load('svc.pkl')\n",
    "encoded = np.load('./npy_data/data_encoded_d.npy')\n",
    "varvals = np.load('./npy_data/varvals_d.npy')\n",
    "pathdataOH = np.load(\"./npy_data/path_data_oh_d.npy\")\n",
    "oldpath = np.load('./npy_data/old_path_d.npy')"
   ]
  },
  {
   "cell_type": "code",
   "execution_count": 3,
   "metadata": {},
   "outputs": [
    {
     "data": {
      "text/plain": [
       "array([ 2.,  2., 11., ..., 31., 37., 42.])"
      ]
     },
     "execution_count": 3,
     "metadata": {},
     "output_type": "execute_result"
    }
   ],
   "source": [
    "varvals"
   ]
  },
  {
   "cell_type": "code",
   "execution_count": 4,
   "metadata": {},
   "outputs": [
    {
     "data": {
      "text/plain": [
       "3.0"
      ]
     },
     "execution_count": 4,
     "metadata": {},
     "output_type": "execute_result"
    }
   ],
   "source": [
    "varvals[20431281]"
   ]
  },
  {
   "cell_type": "code",
   "execution_count": 8,
   "metadata": {
    "scrolled": true
   },
   "outputs": [
    {
     "data": {
      "text/plain": [
       "11199240"
      ]
     },
     "execution_count": 8,
     "metadata": {},
     "output_type": "execute_result"
    }
   ],
   "source": [
    "oldpath[13933181]"
   ]
  },
  {
   "cell_type": "code",
   "execution_count": 12,
   "metadata": {},
   "outputs": [
    {
     "name": "stdout",
     "output_type": "stream",
     "text": [
      "(20674455, 0.5919716238171446)\n",
      "Old path:  16565714\n",
      "(5467982, 0.08607034243323428)\n",
      "Old path:  4367107\n",
      "(13933181, 0.0520436158134867)\n",
      "Old path:  11199240\n",
      "(13235098, 0.04390505706562038)\n",
      "Old path:  10628375\n",
      "(24884118, 0.038514661882012365)\n",
      "Old path:  19959359\n",
      "(12110356, 0.02393485511986009)\n",
      "Old path:  9762973\n",
      "(10654598, 0.02001787436042732)\n",
      "Old path:  8592672\n",
      "(18635721, 0.0040016483120448665)\n",
      "Old path:  14907399\n",
      "(893330, -0.01879369153441716)\n",
      "Old path:  735742\n",
      "(25117658, -0.022580767904878857)\n",
      "Old path:  20145028\n",
      "(6214939, -0.03070315360121059)\n",
      "Old path:  4973456\n",
      "(8580740, -0.0634672561462652)\n",
      "Old path:  6951235\n",
      "(12752822, -0.11724411303521072)\n",
      "Old path:  10266270\n",
      "(2147838, -0.11800596215033615)\n",
      "Old path:  1736468\n",
      "(15438902, -0.1252833349384073)\n",
      "Old path:  12361751\n",
      "(14379751, -0.13125359246731855)\n",
      "Old path:  11533338\n",
      "(14043795, -0.16198974801925214)\n",
      "Old path:  11275501\n"
     ]
    }
   ],
   "source": [
    "# retrieve all the nonzero coefficients and zip them with their respective indices\n",
    "nonzeroes = np.nonzero(svc.coef_[0])[0]\n",
    "coefs = zip(nonzeroes, svc.coef_[0][nonzeroes])\n",
    "\n",
    "# sort the coefficients by their value, instead of index\n",
    "coefs.sort(key = lambda x: x[1], reverse=True)\n",
    "\n",
    "for coef in coefs:\n",
    "    print coef\n",
    "    print \"Old path: \", oldpath[coef[0]]"
   ]
  },
  {
   "cell_type": "code",
   "execution_count": 25,
   "metadata": {
    "collapsed": true
   },
   "outputs": [],
   "source": [
    "maxCoef = np.absolute(svc.coef_).max()\n",
    "\n",
    "idxM = np.argmax(np.absolute(svc.coef_))\n",
    "numnz = np.nonzero(svc.coef_)[1].shape\n",
    "idxNZus = np.nonzero(svc.coef_)[1]\n",
    "coefs = svc.coef_[0,:]\n",
    "\n",
    "nnzcoefs = coefs[idxNZus]\n",
    "\n",
    "idxSort = np.argsort(np.absolute(nnzcoefs))\n",
    "idxSort = np.flipud(idxSort)\n",
    "idxNZ = idxNZus[idxSort]\n",
    "\n",
    "coefPaths = pathdataOH[idxNZ]\n",
    "\n",
    "tile_path = np.trunc(coefPaths/(16**5))\n",
    "tile_step = np.trunc((coefPaths - tile_path*16**5)/2)\n",
    "tile_phase = np.trunc((coefPaths- tile_path*16**5 - 2*tile_step))"
   ]
  },
  {
   "cell_type": "code",
   "execution_count": 29,
   "metadata": {},
   "outputs": [
    {
     "name": "stdout",
     "output_type": "stream",
     "text": [
      "(array([0., 0., 0.]), array([30., 30., 30.]), array([0., 0., 0.]))\n"
     ]
    }
   ],
   "source": [
    "print(tile_path, tile_step, tile_phase)"
   ]
  },
  {
   "cell_type": "code",
   "execution_count": 10,
   "metadata": {
    "collapsed": true
   },
   "outputs": [],
   "source": [
    "vhex = np.vectorize(hex)"
   ]
  },
  {
   "cell_type": "code",
   "execution_count": 11,
   "metadata": {
    "collapsed": true
   },
   "outputs": [],
   "source": [
    "vectorizedPath = vhex(tile_path.astype('int'))\n",
    "vectorizedStep = vhex(tile_step.astype('int'))\n",
    "vectorizedPhase = vhex(tile_phase.astype('int'))"
   ]
  },
  {
   "cell_type": "code",
   "execution_count": 30,
   "metadata": {},
   "outputs": [
    {
     "name": "stdout",
     "output_type": "stream",
     "text": [
      "[[ 0. 30.]\n",
      " [ 0. 30.]\n",
      " [ 0. 30.]]\n",
      "[ 0.6158557  -0.49575757 -0.0089541 ]\n",
      "[12016733 12016733  3648813]\n",
      "[3. 2. 4.]\n"
     ]
    }
   ],
   "source": [
    "tile_loc = np.column_stack((tile_path, tile_step))\n",
    "print(tile_loc)\n",
    "print(nnzcoefs[idxSort])\n",
    "print(oldpath[idxNZ])\n",
    "print(varvals[idxNZ])"
   ]
  },
  {
   "cell_type": "code",
   "execution_count": 13,
   "metadata": {
    "collapsed": true
   },
   "outputs": [],
   "source": [
    "def tileSearch(arg):\n",
    "    vecpath = str(vectorizedPath[int(arg)])\n",
    "    vecpath = vecpath[2:].zfill(4)\n",
    "    try:\n",
    "        proc = subprocess.check_output(\"cat \" + args.assembly_fwi + \" | grep :\" + vecpath, shell=True)\n",
    "        return proc\n",
    "    except CalledProcessError as e:\n",
    "        return \"Assembly index file not found or `cat` command not available. Continuing...\"\n",
    "    "
   ]
  },
  {
   "cell_type": "code",
   "execution_count": 14,
   "metadata": {},
   "outputs": [
    {
     "ename": "IndexError",
     "evalue": "index 12559433 is out of bounds for axis 0 with size 3",
     "output_type": "error",
     "traceback": [
      "\u001b[0;31m---------------------------------------------------------------------------\u001b[0m",
      "\u001b[0;31mIndexError\u001b[0m                                Traceback (most recent call last)",
      "\u001b[0;32m<ipython-input-14-94b3bd06583e>\u001b[0m in \u001b[0;36m<module>\u001b[0;34m()\u001b[0m\n\u001b[0;32m----> 1\u001b[0;31m \u001b[0mtileSearch\u001b[0m\u001b[0;34m(\u001b[0m\u001b[0;36m12559433\u001b[0m\u001b[0;34m)\u001b[0m\u001b[0;34m\u001b[0m\u001b[0m\n\u001b[0m",
      "\u001b[0;32m<ipython-input-13-1caab34f11db>\u001b[0m in \u001b[0;36mtileSearch\u001b[0;34m(arg)\u001b[0m\n\u001b[1;32m      1\u001b[0m \u001b[0;32mdef\u001b[0m \u001b[0mtileSearch\u001b[0m\u001b[0;34m(\u001b[0m\u001b[0marg\u001b[0m\u001b[0;34m)\u001b[0m\u001b[0;34m:\u001b[0m\u001b[0;34m\u001b[0m\u001b[0m\n\u001b[0;32m----> 2\u001b[0;31m     \u001b[0mvecpath\u001b[0m \u001b[0;34m=\u001b[0m \u001b[0mstr\u001b[0m\u001b[0;34m(\u001b[0m\u001b[0mvectorizedPath\u001b[0m\u001b[0;34m[\u001b[0m\u001b[0mint\u001b[0m\u001b[0;34m(\u001b[0m\u001b[0marg\u001b[0m\u001b[0;34m)\u001b[0m\u001b[0;34m]\u001b[0m\u001b[0;34m)\u001b[0m\u001b[0;34m\u001b[0m\u001b[0m\n\u001b[0m\u001b[1;32m      3\u001b[0m     \u001b[0mvecpath\u001b[0m \u001b[0;34m=\u001b[0m \u001b[0mvecpath\u001b[0m\u001b[0;34m[\u001b[0m\u001b[0;36m2\u001b[0m\u001b[0;34m:\u001b[0m\u001b[0;34m]\u001b[0m\u001b[0;34m.\u001b[0m\u001b[0mzfill\u001b[0m\u001b[0;34m(\u001b[0m\u001b[0;36m4\u001b[0m\u001b[0;34m)\u001b[0m\u001b[0;34m\u001b[0m\u001b[0m\n\u001b[1;32m      4\u001b[0m     \u001b[0;32mtry\u001b[0m\u001b[0;34m:\u001b[0m\u001b[0;34m\u001b[0m\u001b[0m\n\u001b[1;32m      5\u001b[0m         \u001b[0mproc\u001b[0m \u001b[0;34m=\u001b[0m \u001b[0msubprocess\u001b[0m\u001b[0;34m.\u001b[0m\u001b[0mcheck_output\u001b[0m\u001b[0;34m(\u001b[0m\u001b[0;34m\"cat \"\u001b[0m \u001b[0;34m+\u001b[0m \u001b[0margs\u001b[0m\u001b[0;34m.\u001b[0m\u001b[0massembly_fwi\u001b[0m \u001b[0;34m+\u001b[0m \u001b[0;34m\" | grep :\"\u001b[0m \u001b[0;34m+\u001b[0m \u001b[0mvecpath\u001b[0m\u001b[0;34m,\u001b[0m \u001b[0mshell\u001b[0m\u001b[0;34m=\u001b[0m\u001b[0mTrue\u001b[0m\u001b[0;34m)\u001b[0m\u001b[0;34m\u001b[0m\u001b[0m\n",
      "\u001b[0;31mIndexError\u001b[0m: index 12559433 is out of bounds for axis 0 with size 3"
     ]
    }
   ],
   "source": [
    "tileSearch(12559433)"
   ]
  },
  {
   "cell_type": "code",
   "execution_count": null,
   "metadata": {
    "collapsed": true
   },
   "outputs": [],
   "source": []
  }
 ],
 "metadata": {
  "kernelspec": {
   "display_name": "Python 2",
   "language": "python",
   "name": "python2"
  },
  "language_info": {
   "codemirror_mode": {
    "name": "ipython",
    "version": 2
   },
   "file_extension": ".py",
   "mimetype": "text/x-python",
   "name": "python",
   "nbconvert_exporter": "python",
   "pygments_lexer": "ipython2",
   "version": "2.7.12"
  }
 },
 "nbformat": 4,
 "nbformat_minor": 2
}
