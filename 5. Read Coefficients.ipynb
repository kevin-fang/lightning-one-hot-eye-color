{
 "cells": [
  {
   "cell_type": "code",
   "execution_count": 1,
   "metadata": {
    "collapsed": true
   },
   "outputs": [],
   "source": [
    "from sklearn.svm import LinearSVC\n",
    "from sklearn import preprocessing\n",
    "import numpy as np\n",
    "import pandas as pd\n",
    "from sklearn.model_selection import cross_val_score, train_test_split\n",
    "from sklearn.metrics import accuracy_score, confusion_matrix\n",
    "import matplotlib.pyplot as plt\n",
    "%matplotlib inline\n",
    "import collections\n",
    "import os\n",
    "import seaborn\n",
    "seaborn.set()\n",
    "from sklearn.externals import joblib"
   ]
  },
  {
   "cell_type": "code",
   "execution_count": 2,
   "metadata": {},
   "outputs": [],
   "source": [
    "svc = joblib.load('svc.pkl')\n",
    "encoded = np.load('./npy_data/data_encoded_d.npy')\n",
    "varvals = np.load('./npy_data/varvals_d.npy')\n",
    "pathdataOH = np.load(\"./npy_data/path_data_oh_d.npy\")\n",
    "oldpath = np.load('./npy_data/old_path_d.npy')"
   ]
  },
  {
   "cell_type": "code",
   "execution_count": 3,
   "metadata": {},
   "outputs": [
    {
     "data": {
      "text/plain": [
       "array([2., 2., 2., ..., 3., 2., 3.])"
      ]
     },
     "execution_count": 3,
     "metadata": {},
     "output_type": "execute_result"
    }
   ],
   "source": [
    "varvals"
   ]
  },
  {
   "cell_type": "code",
   "execution_count": 4,
   "metadata": {},
   "outputs": [
    {
     "data": {
      "text/plain": [
       "3.0"
      ]
     },
     "execution_count": 4,
     "metadata": {},
     "output_type": "execute_result"
    }
   ],
   "source": [
    "varvals[20251600]"
   ]
  },
  {
   "cell_type": "code",
   "execution_count": 5,
   "metadata": {},
   "outputs": [
    {
     "data": {
      "text/plain": [
       "2.0"
      ]
     },
     "execution_count": 5,
     "metadata": {},
     "output_type": "execute_result"
    }
   ],
   "source": [
    "varvals[20251599]"
   ]
  },
  {
   "cell_type": "code",
   "execution_count": 6,
   "metadata": {},
   "outputs": [
    {
     "data": {
      "text/plain": [
       "3.0"
      ]
     },
     "execution_count": 6,
     "metadata": {},
     "output_type": "execute_result"
    }
   ],
   "source": [
    "varvals[6074457]"
   ]
  },
  {
   "cell_type": "code",
   "execution_count": 7,
   "metadata": {},
   "outputs": [
    {
     "data": {
      "text/plain": [
       "12559433"
      ]
     },
     "execution_count": 7,
     "metadata": {},
     "output_type": "execute_result"
    }
   ],
   "source": [
    "oldpath[20251600]"
   ]
  },
  {
   "cell_type": "code",
   "execution_count": 34,
   "metadata": {},
   "outputs": [],
   "source": [
    "maxCoef = np.absolute(svc.coef_).max()\n",
    "\n",
    "idxM = np.argmax(np.absolute(svc.coef_))\n",
    "numnz = np.nonzero(svc.coef_)[1].shape\n",
    "idxNZus = np.nonzero(svc.coef_)[1]\n",
    "coefs = svc.coef_[0,:]\n",
    "\n",
    "nnzcoefs = coefs[idxNZus]\n",
    "\n",
    "idxSort = np.argsort(np.absolute(nnzcoefs))\n",
    "idxSort = np.flipud(idxSort)\n",
    "idxNZ = idxNZus[idxSort]\n",
    "\n",
    "coefPaths = pathdataOH[idxNZ]\n",
    "\n",
    "tile_path = np.trunc(coefPaths/(16**5))\n",
    "tile_step = np.trunc((coefPaths - tile_path*16**5)/2)\n",
    "tile_phase = np.trunc((coefPaths- tile_path*16**5 - 2*tile_step))"
   ]
  },
  {
   "cell_type": "code",
   "execution_count": 36,
   "metadata": {},
   "outputs": [
    {
     "name": "stdout",
     "output_type": "stream",
     "text": [
      "(array([473., 473., 135.]), array([5904., 5904., 8704.]), array([1., 0., 0.]))\n"
     ]
    }
   ],
   "source": [
    "print(tile_path, tile_step, tile_phase)"
   ]
  },
  {
   "cell_type": "code",
   "execution_count": 12,
   "metadata": {
    "collapsed": true
   },
   "outputs": [],
   "source": [
    "vhex = np.vectorize(hex)"
   ]
  },
  {
   "cell_type": "code",
   "execution_count": 14,
   "metadata": {
    "collapsed": true
   },
   "outputs": [],
   "source": [
    "vectorizedPath = vhex(tile_path.astype('int'))\n",
    "vectorizedStep = vhex(tile_step.astype('int'))\n",
    "vectorizedPhase = vhex(tile_phase.astype('int'))"
   ]
  },
  {
   "cell_type": "code",
   "execution_count": 21,
   "metadata": {},
   "outputs": [
    {
     "name": "stdout",
     "output_type": "stream",
     "text": [
      "[[ 329. 2393.]\n",
      " [ 329. 2393.]\n",
      " [ 101. 1167.]]\n",
      "[ 0.615884   -0.49562608 -0.00910691]\n",
      "[9104978 9104978 2714655]\n",
      "[3. 2. 0.]\n"
     ]
    }
   ],
   "source": [
    "tile_loc = np.column_stack((tile_path, tile_step))\n",
    "print(tile_loc)\n",
    "print(nnzcoefs[idxSort])\n",
    "print(oldpath[idxNZ])\n",
    "print(varvals[idxNZ])"
   ]
  },
  {
   "cell_type": "code",
   "execution_count": 15,
   "metadata": {
    "collapsed": true
   },
   "outputs": [],
   "source": [
    "def tileSearch(arg):\n",
    "    vecpath = str(vectorizedPath[int(arg)])\n",
    "    vecpath = vecpath[2:].zfill(4)\n",
    "    try:\n",
    "        proc = subprocess.check_output(\"cat \" + args.assembly_fwi + \" | grep :\" + vecpath, shell=True)\n",
    "        return proc\n",
    "    except CalledProcessError as e:\n",
    "        return \"Assembly index file not found or `cat` command not available. Continuing...\"\n",
    "    "
   ]
  },
  {
   "cell_type": "code",
   "execution_count": null,
   "metadata": {
    "collapsed": true
   },
   "outputs": [],
   "source": []
  }
 ],
 "metadata": {
  "kernelspec": {
   "display_name": "Python 2",
   "language": "python",
   "name": "python2"
  },
  "language_info": {
   "codemirror_mode": {
    "name": "ipython",
    "version": 2
   },
   "file_extension": ".py",
   "mimetype": "text/x-python",
   "name": "python",
   "nbconvert_exporter": "python",
   "pygments_lexer": "ipython2",
   "version": "2.7.12"
  }
 },
 "nbformat": 4,
 "nbformat_minor": 2
}
